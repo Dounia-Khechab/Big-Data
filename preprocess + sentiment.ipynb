{
 "cells": [
  {
   "cell_type": "code",
   "execution_count": 1,
   "id": "313b8ee3",
   "metadata": {},
   "outputs": [],
   "source": [
    "# Import libraries\n",
    "from pyspark.sql.types import *\n",
    "from pyspark.sql.functions import *\n",
    "from pyspark.sql import SparkSession\n",
    "from pyspark import *\n",
    "import pandas as pd\n",
    "import numpy as np\n",
    "import seaborn as sns\n",
    "import matplotlib.pyplot as plt\n",
    "from sklearn.feature_extraction.text import CountVectorizer\n",
    "import nltk\n",
    "from nltk.corpus import stopwords\n",
    "import string\n",
    "import re\n",
    "\n",
    "# create sparkcontext\n",
    "conf = SparkConf().setMaster(\"local\").setAppName(\"spark_app\")\n",
    "sc = SparkContext.getOrCreate(conf=conf)"
   ]
  },
  {
   "cell_type": "code",
   "execution_count": 19,
   "id": "ac6dfe54",
   "metadata": {},
   "outputs": [],
   "source": [
    "f = sc.textFile(\"dataset/Qatar2022.txt\")"
   ]
  },
  {
   "cell_type": "code",
   "execution_count": 20,
   "id": "b074852e",
   "metadata": {},
   "outputs": [
    {
     "name": "stderr",
     "output_type": "stream",
     "text": [
      "[nltk_data] Downloading package stopwords to\n",
      "[nltk_data]     C:\\Users\\Khechab\\AppData\\Roaming\\nltk_data...\n",
      "[nltk_data]   Package stopwords is already up-to-date!\n"
     ]
    }
   ],
   "source": [
    "#Emoji patterns\n",
    "emoji_pattern = re.compile(\"[\"\n",
    "         u\"\\U0001F600-\\U0001F64F\"  # emoticons\n",
    "         u\"\\U0001F300-\\U0001F5FF\"  # symbols & pictographs\n",
    "         u\"\\U0001F680-\\U0001F6FF\"  # transport & map symbols\n",
    "         u\"\\U0001F1E0-\\U0001F1FF\"  # flags (iOS)\n",
    "         u\"\\U00002702-\\U000027B0\"\n",
    "         u\"\\U000024C2-\\U0001F251\"\n",
    "         \"]+\", flags=re.UNICODE)\n",
    "# define stopwords\n",
    "nltk.download('stopwords')\n",
    "stopword = stopwords.words('english')\n",
    "# import stemmer from nltk\n",
    "ps = nltk.PorterStemmer()\n",
    "# import lemmatizer from nltk\n",
    "wn = nltk.WordNetLemmatizer()\n",
    "\n",
    "def abb(tweet):\n",
    "    tweet = re.sub(r\"im|i'm|iam\", \"i am\", tweet)\n",
    "    tweet = re.sub(r\"he's\", \"he is\", tweet)\n",
    "    tweet = re.sub(r\"she's\", \"she is\", tweet)\n",
    "    tweet = re.sub(r\"that's\", \"that is\", tweet) \n",
    "    tweet = re.sub(r\"there's\", \"there is\", tweet) \n",
    "    tweet = re.sub(r\"what's\", \"what is\", tweet)\n",
    "    tweet = re.sub(r\"where's\", \"where is\", tweet) \n",
    "    tweet = re.sub(r\"\\'ll\", \" will\", tweet)  \n",
    "    tweet = re.sub(r\"\\'ve\", \" have\", tweet)  \n",
    "    tweet = re.sub(r\"\\'re\", \" are\", tweet)\n",
    "    tweet = re.sub(r\"\\'d\", \" would\", tweet)\n",
    "    tweet = re.sub(r\"\\'ve\", \" have\", tweet)\n",
    "    tweet = re.sub(r\"won't\", \"will not\", tweet)\n",
    "    tweet = re.sub(r\"don't\", \"do not\", tweet)\n",
    "    tweet = re.sub(r\"did't\", \"did not\", tweet)\n",
    "    tweet = re.sub(r\"can't\", \"can not\", tweet)\n",
    "    tweet = re.sub(r\"it's\", \"it is\", tweet)\n",
    "    tweet = re.sub(r\"couldn't\", \"could not\", tweet)\n",
    "    tweet = re.sub(r\"wouldn't\", \"would not\", tweet)\n",
    "    tweet = re.sub(r\"have't\", \"have not\", tweet)\n",
    "    return tweet"
   ]
  },
  {
   "cell_type": "code",
   "execution_count": 21,
   "id": "d985cbfb",
   "metadata": {},
   "outputs": [],
   "source": [
    "#wc = f.map(lambda x: [x['tweet_text'] for i in x]) \n",
    "wc = f.map(lambda x: re.sub(\"RT\", \"\", x))\n",
    "wc = wc.map(lambda x: x.lower()) # make text smaller\n",
    "wc = wc.map(lambda x: re.sub(r\"@[A-Za-z0-9]+\", \"\", x)) # remove users\n",
    "wc = wc.map(lambda x: re.sub(r\"\\\\x[A-Za-z][0-9]+\", \"\", x)) # remove\n",
    "wc = wc.map(lambda x: re.sub(r\"\\\\u[0-9][A-Za-z]|\\\\U[0-9][A-Za-z]+\", \"\", x)) # remove\n",
    "wc = wc.map(lambda x: re.sub(r\"&lt;/?[a-z]+&gt;\", \"\", x)) # remove\n",
    "wc = wc.map(lambda x: re.sub(r'&amp;amp;', '&', x)) # remove \n",
    "wc = wc.map(lambda x: re.sub(r\"b[\\s]+\", \"\", x)) # remove b\" or b'\n",
    "wc = wc.map(lambda x: re.sub(r\"https?:\\/\\/t.co\\/[A-Za-z0-9]+\", \"\", x)) # remove urls\n",
    "wc = wc.map(lambda x: re.sub(r\"\\\\[A-Za-z0-9]+\", \"\", x)) # remove \\n\n",
    "wc = wc.map(lambda x: abb(x)) # replace abb\n",
    "wc = wc.map(lambda x: re.sub(\"[^a-zA-Z0-9\\s]+\", \"\",x)) # remove non english tweets\n",
    "wc = wc.map(lambda x: re.sub('[0-9]+', '', x)) # remove numbers  \n",
    "wc = wc.map(lambda x: emoji_pattern.sub(r'', x) ) # remove emojis\n",
    "# remove punctuation (also @ and #) => to see them ( run string.punctuation )\n",
    "wc = wc.map(lambda x: \"\".join([char for char in x if char not in string.punctuation])) # remove ponctuation \n",
    "# do tokenization\n",
    "wc = wc.map(lambda x: re.split('\\W+', x)) \n",
    "# remove_stopwords\n",
    "wc = wc.map(lambda x: [word for word in x if word not in stopword]) \n",
    "# do stemming\n",
    "#wc = wc.map(lambda x: [ps.stem(word) for word in x]) \n",
    "# do lemmatization\n",
    "#wc = wc.map(lambda x: [wn.lemmatize(word) for word in x]) \n",
    "# merge words\n",
    "wc = wc.map(lambda x: \" \".join(x)) "
   ]
  },
  {
   "cell_type": "code",
   "execution_count": 22,
   "id": "ffc565eb",
   "metadata": {},
   "outputs": [
    {
     "name": "stdout",
     "output_type": "stream",
     "text": [
      "tweettext\n",
      "woman faces lashes seven years prison victi rape qatar told could possibly avoid cri aminal charges married attackerfifa worldcup qatar qatar \n",
      "worldcup \n",
      "going expose leak adidas new worldcup qatar ball alrihla ugly non representative design qatars culture gonna quick giveaway guys like tweet marked luckgiveaway adidasfootball fifaworldcup \n",
      "qatar whose authorities threatened fifa worldcup organizer paolakat lashes sexual assault emirate member socalled unhumanrightscouncil unhrc also chosen biden admin represent us interests afghanistan \n"
     ]
    }
   ],
   "source": [
    "for row in wc.take(5): print(row) #f.count()"
   ]
  },
  {
   "cell_type": "code",
   "execution_count": 23,
   "id": "922257ca",
   "metadata": {},
   "outputs": [],
   "source": [
    "spark = SparkSession(sc)\n",
    "wc_df =wc.map(lambda x: (x))"
   ]
  },
  {
   "cell_type": "code",
   "execution_count": 24,
   "id": "3f91215d",
   "metadata": {},
   "outputs": [],
   "source": [
    "from pyspark.sql import Row\n",
    "row = Row(\"tweet_text\") # Or some other column name\n",
    "df=wc_df.map(row).toDF([\"tweet_text\"])"
   ]
  },
  {
   "cell_type": "code",
   "execution_count": 8,
   "id": "70659594",
   "metadata": {},
   "outputs": [
    {
     "data": {
      "text/plain": [
       "DataFrame[tweet_text: string]"
      ]
     },
     "execution_count": 8,
     "metadata": {},
     "output_type": "execute_result"
    }
   ],
   "source": [
    "df"
   ]
  },
  {
   "cell_type": "code",
   "execution_count": 25,
   "id": "2af5c26b",
   "metadata": {},
   "outputs": [
    {
     "name": "stdout",
     "output_type": "stream",
     "text": [
      "                                               tweet_text\n",
      "0                                               tweettext\n",
      "1       woman faces lashes seven years prison victi ra...\n",
      "2                                               worldcup \n",
      "3       going expose leak adidas new worldcup qatar ba...\n",
      "4       qatar whose authorities threatened fifa worldc...\n",
      "...                                                   ...\n",
      "254240  bdelatorreluca helped heraclesalmelo earn toug...\n",
      "254241  bthe world cup starts days hours minutes world...\n",
      "254242                bmadjaaack sportbible forget fa amp\n",
      "254243  bhave say scot seen national team world cup fi...\n",
      "254244  bpoppingcreasesa huge thank updates indvsl pak...\n",
      "\n",
      "[254245 rows x 1 columns]\n"
     ]
    }
   ],
   "source": [
    "pandasDF = df.toPandas()\n",
    "print(pandasDF)"
   ]
  },
  {
   "cell_type": "code",
   "execution_count": 11,
   "id": "c02934bd",
   "metadata": {},
   "outputs": [],
   "source": [
    "pandasDF.to_csv('dataset/new.csv',index=False)"
   ]
  },
  {
   "cell_type": "code",
   "execution_count": 26,
   "id": "55415483",
   "metadata": {},
   "outputs": [
    {
     "data": {
      "text/html": [
       "<div>\n",
       "<style scoped>\n",
       "    .dataframe tbody tr th:only-of-type {\n",
       "        vertical-align: middle;\n",
       "    }\n",
       "\n",
       "    .dataframe tbody tr th {\n",
       "        vertical-align: top;\n",
       "    }\n",
       "\n",
       "    .dataframe thead th {\n",
       "        text-align: right;\n",
       "    }\n",
       "</style>\n",
       "<table border=\"1\" class=\"dataframe\">\n",
       "  <thead>\n",
       "    <tr style=\"text-align: right;\">\n",
       "      <th></th>\n",
       "      <th>tweet_text</th>\n",
       "    </tr>\n",
       "  </thead>\n",
       "  <tbody>\n",
       "    <tr>\n",
       "      <th>0</th>\n",
       "      <td>tweettext</td>\n",
       "    </tr>\n",
       "    <tr>\n",
       "      <th>1</th>\n",
       "      <td>woman faces lashes seven years prison victi ra...</td>\n",
       "    </tr>\n",
       "    <tr>\n",
       "      <th>2</th>\n",
       "      <td>worldcup</td>\n",
       "    </tr>\n",
       "    <tr>\n",
       "      <th>3</th>\n",
       "      <td>going expose leak adidas new worldcup qatar ba...</td>\n",
       "    </tr>\n",
       "    <tr>\n",
       "      <th>4</th>\n",
       "      <td>qatar whose authorities threatened fifa worldc...</td>\n",
       "    </tr>\n",
       "    <tr>\n",
       "      <th>...</th>\n",
       "      <td>...</td>\n",
       "    </tr>\n",
       "    <tr>\n",
       "      <th>254240</th>\n",
       "      <td>bdelatorreluca helped heraclesalmelo earn toug...</td>\n",
       "    </tr>\n",
       "    <tr>\n",
       "      <th>254241</th>\n",
       "      <td>bthe world cup starts days hours minutes world...</td>\n",
       "    </tr>\n",
       "    <tr>\n",
       "      <th>254242</th>\n",
       "      <td>bmadjaaack sportbible forget fa amp</td>\n",
       "    </tr>\n",
       "    <tr>\n",
       "      <th>254243</th>\n",
       "      <td>bhave say scot seen national team world cup fi...</td>\n",
       "    </tr>\n",
       "    <tr>\n",
       "      <th>254244</th>\n",
       "      <td>bpoppingcreasesa huge thank updates indvsl pak...</td>\n",
       "    </tr>\n",
       "  </tbody>\n",
       "</table>\n",
       "<p>254245 rows × 1 columns</p>\n",
       "</div>"
      ],
      "text/plain": [
       "                                               tweet_text\n",
       "0                                               tweettext\n",
       "1       woman faces lashes seven years prison victi ra...\n",
       "2                                               worldcup \n",
       "3       going expose leak adidas new worldcup qatar ba...\n",
       "4       qatar whose authorities threatened fifa worldc...\n",
       "...                                                   ...\n",
       "254240  bdelatorreluca helped heraclesalmelo earn toug...\n",
       "254241  bthe world cup starts days hours minutes world...\n",
       "254242                bmadjaaack sportbible forget fa amp\n",
       "254243  bhave say scot seen national team world cup fi...\n",
       "254244  bpoppingcreasesa huge thank updates indvsl pak...\n",
       "\n",
       "[254245 rows x 1 columns]"
      ]
     },
     "execution_count": 26,
     "metadata": {},
     "output_type": "execute_result"
    }
   ],
   "source": [
    "pandasDF"
   ]
  },
  {
   "cell_type": "code",
   "execution_count": 27,
   "id": "c3c59d3a",
   "metadata": {},
   "outputs": [],
   "source": [
    "# Import libraries\n",
    "import pandas as pd\n",
    "from textblob import TextBlob\n",
    "import numpy as np\n",
    "import matplotlib.pyplot as plt\n",
    "\n",
    "def getSubjectivity(text):\n",
    "    return TextBlob(text).sentiment.subjectivity\n",
    "\n",
    "\n",
    "def getPolarity(text):\n",
    "    return TextBlob(text).sentiment.polarity\n",
    "\n",
    "def getAnalysis(score):\n",
    "    try:\n",
    "        if score < 0:\n",
    "            return \"Negative\" #2\n",
    "        elif score == 0:\n",
    "            return \"Neutral\"\n",
    "        else:\n",
    "            return \"Positive\"\n",
    "    except ValueError as err:\n",
    "        pass\n",
    "\n",
    "pandasDF['subjectivity'] = pandasDF['tweet_text'].apply(getSubjectivity)\n",
    "pandasDF['polarity'] = pandasDF['tweet_text'].apply(getPolarity)\n",
    "pandasDF['sentiment'] = pandasDF['polarity'].apply(getAnalysis)"
   ]
  },
  {
   "cell_type": "code",
   "execution_count": 28,
   "id": "1f3150f2",
   "metadata": {},
   "outputs": [
    {
     "data": {
      "text/html": [
       "<div>\n",
       "<style scoped>\n",
       "    .dataframe tbody tr th:only-of-type {\n",
       "        vertical-align: middle;\n",
       "    }\n",
       "\n",
       "    .dataframe tbody tr th {\n",
       "        vertical-align: top;\n",
       "    }\n",
       "\n",
       "    .dataframe thead th {\n",
       "        text-align: right;\n",
       "    }\n",
       "</style>\n",
       "<table border=\"1\" class=\"dataframe\">\n",
       "  <thead>\n",
       "    <tr style=\"text-align: right;\">\n",
       "      <th></th>\n",
       "      <th>tweet_text</th>\n",
       "      <th>subjectivity</th>\n",
       "      <th>polarity</th>\n",
       "      <th>sentiment</th>\n",
       "    </tr>\n",
       "  </thead>\n",
       "  <tbody>\n",
       "    <tr>\n",
       "      <th>0</th>\n",
       "      <td>tweettext</td>\n",
       "      <td>0.000000</td>\n",
       "      <td>0.000000</td>\n",
       "      <td>Neutral</td>\n",
       "    </tr>\n",
       "    <tr>\n",
       "      <th>1</th>\n",
       "      <td>woman faces lashes seven years prison victi ra...</td>\n",
       "      <td>0.625000</td>\n",
       "      <td>0.125000</td>\n",
       "      <td>Positive</td>\n",
       "    </tr>\n",
       "    <tr>\n",
       "      <th>2</th>\n",
       "      <td>worldcup</td>\n",
       "      <td>0.000000</td>\n",
       "      <td>0.000000</td>\n",
       "      <td>Neutral</td>\n",
       "    </tr>\n",
       "    <tr>\n",
       "      <th>3</th>\n",
       "      <td>going expose leak adidas new worldcup qatar ba...</td>\n",
       "      <td>0.638636</td>\n",
       "      <td>-0.032576</td>\n",
       "      <td>Negative</td>\n",
       "    </tr>\n",
       "    <tr>\n",
       "      <th>4</th>\n",
       "      <td>qatar whose authorities threatened fifa worldc...</td>\n",
       "      <td>0.833333</td>\n",
       "      <td>0.500000</td>\n",
       "      <td>Positive</td>\n",
       "    </tr>\n",
       "    <tr>\n",
       "      <th>...</th>\n",
       "      <td>...</td>\n",
       "      <td>...</td>\n",
       "      <td>...</td>\n",
       "      <td>...</td>\n",
       "    </tr>\n",
       "    <tr>\n",
       "      <th>254240</th>\n",
       "      <td>bdelatorreluca helped heraclesalmelo earn toug...</td>\n",
       "      <td>0.477778</td>\n",
       "      <td>-0.029630</td>\n",
       "      <td>Negative</td>\n",
       "    </tr>\n",
       "    <tr>\n",
       "      <th>254241</th>\n",
       "      <td>bthe world cup starts days hours minutes world...</td>\n",
       "      <td>0.000000</td>\n",
       "      <td>0.000000</td>\n",
       "      <td>Neutral</td>\n",
       "    </tr>\n",
       "    <tr>\n",
       "      <th>254242</th>\n",
       "      <td>bmadjaaack sportbible forget fa amp</td>\n",
       "      <td>0.000000</td>\n",
       "      <td>0.000000</td>\n",
       "      <td>Neutral</td>\n",
       "    </tr>\n",
       "    <tr>\n",
       "      <th>254243</th>\n",
       "      <td>bhave say scot seen national team world cup fi...</td>\n",
       "      <td>0.600000</td>\n",
       "      <td>0.500000</td>\n",
       "      <td>Positive</td>\n",
       "    </tr>\n",
       "    <tr>\n",
       "      <th>254244</th>\n",
       "      <td>bpoppingcreasesa huge thank updates indvsl pak...</td>\n",
       "      <td>0.900000</td>\n",
       "      <td>0.400000</td>\n",
       "      <td>Positive</td>\n",
       "    </tr>\n",
       "  </tbody>\n",
       "</table>\n",
       "<p>254245 rows × 4 columns</p>\n",
       "</div>"
      ],
      "text/plain": [
       "                                               tweet_text  subjectivity  \\\n",
       "0                                               tweettext      0.000000   \n",
       "1       woman faces lashes seven years prison victi ra...      0.625000   \n",
       "2                                               worldcup       0.000000   \n",
       "3       going expose leak adidas new worldcup qatar ba...      0.638636   \n",
       "4       qatar whose authorities threatened fifa worldc...      0.833333   \n",
       "...                                                   ...           ...   \n",
       "254240  bdelatorreluca helped heraclesalmelo earn toug...      0.477778   \n",
       "254241  bthe world cup starts days hours minutes world...      0.000000   \n",
       "254242                bmadjaaack sportbible forget fa amp      0.000000   \n",
       "254243  bhave say scot seen national team world cup fi...      0.600000   \n",
       "254244  bpoppingcreasesa huge thank updates indvsl pak...      0.900000   \n",
       "\n",
       "        polarity sentiment  \n",
       "0       0.000000   Neutral  \n",
       "1       0.125000  Positive  \n",
       "2       0.000000   Neutral  \n",
       "3      -0.032576  Negative  \n",
       "4       0.500000  Positive  \n",
       "...          ...       ...  \n",
       "254240 -0.029630  Negative  \n",
       "254241  0.000000   Neutral  \n",
       "254242  0.000000   Neutral  \n",
       "254243  0.500000  Positive  \n",
       "254244  0.400000  Positive  \n",
       "\n",
       "[254245 rows x 4 columns]"
      ]
     },
     "execution_count": 28,
     "metadata": {},
     "output_type": "execute_result"
    }
   ],
   "source": [
    "pandasDF"
   ]
  },
  {
   "cell_type": "code",
   "execution_count": null,
   "id": "d8bc5eba",
   "metadata": {},
   "outputs": [],
   "source": [
    "from wordcloud import WordCloud\n",
    "def wc(data,bgcolor,title):\n",
    "    plt.figure(figsize = (100,100))\n",
    "    wc = WordCloud(background_color = \"white\", max_words = 1000,  max_font_size = 50) #bgcolor\n",
    "    wc.generate(' '.join(data))\n",
    "    plt.imshow(wc)\n",
    "    plt.axis('off')\n",
    "\n",
    "wc(pandasDF[\"tweet_text\"],'black','Common Words' ) #Frequent Words"
   ]
  },
  {
   "cell_type": "code",
   "execution_count": null,
   "id": "90a7408f",
   "metadata": {},
   "outputs": [],
   "source": [
    "#list_of_values = [\"Positive\"]\n",
    "#wordcloud for positive tweets\n",
    "df2 = pandasDF[pandasDF['sentiment'].isin([\"Positive\"])]\n",
    "wc(df2['tweet_text'],'black','Common Words')\n",
    "#wordcloud for neutral tweets\n",
    "df3 = pandasDF[pandasDF['sentiment'].isin([\"Neutral\"])]\n",
    "wc(df3['tweet_text'],'black','Common Words')\n",
    "#wordcloud for negative tweets\n",
    "df4 = pandasDF[pandasDF['sentiment'].isin([\"Negative\"])]\n",
    "wc(df4['tweet_text'],'black','Common Words')\n",
    "#print(df2)\n",
    "#print(pandasDF.sentiment)"
   ]
  },
  {
   "cell_type": "code",
   "execution_count": 29,
   "id": "6d71abc7",
   "metadata": {},
   "outputs": [
    {
     "data": {
      "text/plain": [
       "array(['Neutral', 'Positive', 'Negative'], dtype=object)"
      ]
     },
     "execution_count": 29,
     "metadata": {},
     "output_type": "execute_result"
    }
   ],
   "source": [
    "pandasDF['sentiment'].unique()\n",
    "#pandasDF['sentiment'].nunique()"
   ]
  },
  {
   "cell_type": "code",
   "execution_count": 30,
   "id": "e59ecaa9",
   "metadata": {},
   "outputs": [],
   "source": [
    "#pandasDF['sentiment'].plot()\n",
    "#pandasDF.plot.pie(y='sentiment')\n",
    "p=pandasDF['sentiment'].value_counts()"
   ]
  },
  {
   "cell_type": "code",
   "execution_count": 31,
   "id": "bc6bf93b",
   "metadata": {},
   "outputs": [
    {
     "data": {
      "text/plain": [
       "Neutral     157203\n",
       "Positive     71634\n",
       "Negative     25408\n",
       "Name: sentiment, dtype: int64"
      ]
     },
     "execution_count": 31,
     "metadata": {},
     "output_type": "execute_result"
    }
   ],
   "source": [
    "p"
   ]
  },
  {
   "cell_type": "code",
   "execution_count": 32,
   "id": "0e3e900c",
   "metadata": {},
   "outputs": [],
   "source": [
    "p.to_csv('dataset/dounia.csv')"
   ]
  },
  {
   "cell_type": "code",
   "execution_count": 33,
   "id": "b55727c7",
   "metadata": {},
   "outputs": [
    {
     "data": {
      "image/png": "[encoded data removed]",
      "text/plain": [
       "<Figure size 432x360 with 1 Axes>"
      ]
     },
     "metadata": {},
     "output_type": "display_data"
    }
   ],
   "source": [
    "import matplotlib.pyplot as plt\n",
    "#p.plot.pie(figsize=(6,5),fontsize=18)\n",
    "my_labels=['Neutral','Positive','Negative']\n",
    "p.plot.pie(figsize=(6,5),fontsize=18,labels=my_labels,autopct='%1.1f%%', shadow=True, startangle=90)\n",
    "#plt.pie(p,labels=my_labels, autopct='%1.1f%%', shadow=True, startangle=90)\n",
    "plt.title('Sentiment Analysis of tweets : '+ str(pandasDF.shape[0]))\n",
    "plt.axis('equal')\n",
    "plt.show()"
   ]
  },
  {
   "cell_type": "code",
   "execution_count": 37,
   "id": "5c98fef4",
   "metadata": {},
   "outputs": [
    {
     "data": {
      "text/plain": [
       "<AxesSubplot:>"
      ]
     },
     "execution_count": 37,
     "metadata": {},
     "output_type": "execute_result"
    },
    {
     "data": {
      "image/png": "[encoded data removed]",
      "text/plain": [
       "<Figure size 432x288 with 1 Axes>"
      ]
     },
     "metadata": {
      "needs_background": "light"
     },
     "output_type": "display_data"
    }
   ],
   "source": [
    "p.plot(kind='barh',color=\"r\")"
   ]
  }
 ],
 "metadata": {
  "kernelspec": {
   "display_name": "Python 3",
   "language": "python",
   "name": "python3"
  },
  "language_info": {
   "codemirror_mode": {
    "name": "ipython",
    "version": 3
   },
   "file_extension": ".py",
   "mimetype": "text/x-python",
   "name": "python",
   "nbconvert_exporter": "python",
   "pygments_lexer": "ipython3",
   "version": "3.8.8"
  }
 },
 "nbformat": 4,
 "nbformat_minor": 5
}
